{
 "cells": [
  {
   "cell_type": "markdown",
   "id": "e1cdaf22",
   "metadata": {},
   "source": [
    "## objetos de recuperação"
   ]
  },
  {
   "cell_type": "code",
   "execution_count": 1,
   "id": "b1957bea",
   "metadata": {},
   "outputs": [],
   "source": [
    "import dotenv\n",
    "from langchain_community.vectorstores import Chroma\n",
    "from langchain_openai import OpenAIEmbeddings"
   ]
  },
  {
   "cell_type": "code",
   "execution_count": 2,
   "id": "8c6230a2",
   "metadata": {},
   "outputs": [],
   "source": [
    "REVIEWS_CHROMA_PATH = \"chroma_data/\""
   ]
  },
  {
   "cell_type": "code",
   "execution_count": 3,
   "id": "10c76938",
   "metadata": {},
   "outputs": [
    {
     "data": {
      "text/plain": [
       "True"
      ]
     },
     "execution_count": 3,
     "metadata": {},
     "output_type": "execute_result"
    }
   ],
   "source": [
    "dotenv.load_dotenv()"
   ]
  },
  {
   "cell_type": "code",
   "execution_count": 4,
   "id": "0cf0082f",
   "metadata": {},
   "outputs": [
    {
     "name": "stderr",
     "output_type": "stream",
     "text": [
      "C:\\Users\\jonat\\AppData\\Local\\Temp\\ipykernel_11304\\2488077097.py:1: LangChainDeprecationWarning: The class `Chroma` was deprecated in LangChain 0.2.9 and will be removed in 1.0. An updated version of the class exists in the :class:`~langchain-chroma package and should be used instead. To use it run `pip install -U :class:`~langchain-chroma` and import as `from :class:`~langchain_chroma import Chroma``.\n",
      "  reviews_vector_db = Chroma(\n"
     ]
    }
   ],
   "source": [
    "reviews_vector_db = Chroma(\n",
    "    persist_directory=REVIEWS_CHROMA_PATH,\n",
    "    embedding_function=OpenAIEmbeddings(),\n",
    ")"
   ]
  },
  {
   "cell_type": "code",
   "execution_count": 5,
   "id": "fed39428",
   "metadata": {},
   "outputs": [],
   "source": [
    "question = \"\"\"Has anyone complained about\n",
    "           communication with the hospital staff?\"\"\""
   ]
  },
  {
   "cell_type": "code",
   "execution_count": 6,
   "id": "30fa3f85",
   "metadata": {},
   "outputs": [],
   "source": [
    "relevant_docs = reviews_vector_db.similarity_search(question, k=3)"
   ]
  },
  {
   "cell_type": "code",
   "execution_count": 7,
   "id": "4f23c06b",
   "metadata": {},
   "outputs": [
    {
     "data": {
      "text/plain": [
       "'review_id: 73\\nvisit_id: 7696\\nreview: I had a frustrating experience at the hospital. The communication between the medical staff and me was unclear, leading to misunderstandings about my treatment plan. Improvement is needed in this area.\\nphysician_name: Maria Thompson\\nhospital_name: Little-Spencer\\npatient_name: Terri Smith'"
      ]
     },
     "execution_count": 7,
     "metadata": {},
     "output_type": "execute_result"
    }
   ],
   "source": [
    "relevant_docs[0].page_content"
   ]
  },
  {
   "cell_type": "code",
   "execution_count": 8,
   "id": "2f7b2959",
   "metadata": {},
   "outputs": [
    {
     "data": {
      "text/plain": [
       "'review_id: 521\\nvisit_id: 631\\nreview: I had a challenging time at the hospital. The medical care was adequate, but the lack of communication between the staff and me left me feeling frustrated and confused about my treatment plan.\\nphysician_name: Samantha Mendez\\nhospital_name: Richardson-Powell\\npatient_name: Kurt Gordon'"
      ]
     },
     "execution_count": 8,
     "metadata": {},
     "output_type": "execute_result"
    }
   ],
   "source": [
    "relevant_docs[1].page_content"
   ]
  },
  {
   "cell_type": "code",
   "execution_count": 9,
   "id": "23897e43",
   "metadata": {},
   "outputs": [
    {
     "data": {
      "text/plain": [
       "'review_id: 785\\nvisit_id: 2593\\nreview: My stay at the hospital was challenging. The medical care was adequate, but the lack of communication from the staff created some frustration.\\nphysician_name: Brittany Harris\\nhospital_name: Jones, Taylor and Garcia\\npatient_name: Ryan Jacobs'"
      ]
     },
     "execution_count": 9,
     "metadata": {},
     "output_type": "execute_result"
    }
   ],
   "source": [
    "relevant_docs[2].page_content"
   ]
  },
  {
   "cell_type": "code",
   "execution_count": 10,
   "id": "d92a6211",
   "metadata": {},
   "outputs": [],
   "source": [
    "from langchain_intro.chatbot import review_chain"
   ]
  },
  {
   "cell_type": "code",
   "execution_count": 11,
   "id": "05c71f43",
   "metadata": {},
   "outputs": [],
   "source": [
    "question = \"\"\"Has anyone complained about communication with the hospital staff?\"\"\""
   ]
  },
  {
   "cell_type": "code",
   "execution_count": 12,
   "id": "167e4afb",
   "metadata": {},
   "outputs": [
    {
     "data": {
      "text/plain": [
       "'Sim, várias pessoas reclamaram da comunicação com a equipe do hospital. Alguns pacientes mencionaram que a falta de comunicação entre a equipe médica e eles levou a mal-entendidos sobre o plano de tratamento, deixando-os frustrados e confusos. Por exemplo, um paciente descreveu a comunicação como \"pouco clara\", enquanto outro mencionou que a falta de comunicação criou frustração durante a estadia no hospital.'"
      ]
     },
     "execution_count": 12,
     "metadata": {},
     "output_type": "execute_result"
    }
   ],
   "source": [
    "review_chain.invoke(question)"
   ]
  }
 ],
 "metadata": {
  "kernelspec": {
   "display_name": ".venv (3.12.10)",
   "language": "python",
   "name": "python3"
  },
  "language_info": {
   "codemirror_mode": {
    "name": "ipython",
    "version": 3
   },
   "file_extension": ".py",
   "mimetype": "text/x-python",
   "name": "python",
   "nbconvert_exporter": "python",
   "pygments_lexer": "ipython3",
   "version": "3.12.10"
  }
 },
 "nbformat": 4,
 "nbformat_minor": 5
}
