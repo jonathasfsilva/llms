{
 "cells": [
  {
   "cell_type": "markdown",
   "id": "0bd1a7cc",
   "metadata": {},
   "source": [
    "## Modelos de bate-papo"
   ]
  },
  {
   "cell_type": "code",
   "execution_count": 29,
   "id": "a94029e9",
   "metadata": {},
   "outputs": [],
   "source": [
    "from langchain.schema.messages import HumanMessage, SystemMessage\n",
    "from langchain_intro.chatbot import chat_model"
   ]
  },
  {
   "cell_type": "code",
   "execution_count": 30,
   "id": "46aac002",
   "metadata": {},
   "outputs": [],
   "source": [
    "\n",
    "messages = [\n",
    "    SystemMessage(\n",
    "        content=\"\"\"Você é um assistente com conhecimento em\n",
    "saúde. Responda apenas a perguntas relacionadas à saúde.\"\"\"\n",
    "    ),\n",
    "    HumanMessage(content=\"O que é o Medicaid Managed Care?\"),\n",
    "]\n"
   ]
  },
  {
   "cell_type": "code",
   "execution_count": 31,
   "id": "0ad4f878",
   "metadata": {},
   "outputs": [
    {
     "data": {
      "text/plain": [
       "AIMessage(content='O Medicaid Managed Care é um modelo de gestão no qual os programas de Medicaid contratam organizações de saúde para fornecer serviços de saúde para os beneficiários do Medicaid. Essas organizações são responsáveis por coordenar e gerenciar os cuidados de saúde, além de trabalhar para melhorar a qualidade e eficiência dos serviços prestados aos pacientes. O objetivo do Medicaid Managed Care é fornecer atendimento acessível e de qualidade para a população de baixa renda que se qualifica para o programa Medicaid.', additional_kwargs={'refusal': None}, response_metadata={'token_usage': {'completion_tokens': 111, 'prompt_tokens': 44, 'total_tokens': 155, 'completion_tokens_details': {'accepted_prediction_tokens': 0, 'audio_tokens': 0, 'reasoning_tokens': 0, 'rejected_prediction_tokens': 0}, 'prompt_tokens_details': {'audio_tokens': 0, 'cached_tokens': 0}}, 'model_name': 'gpt-3.5-turbo-0125', 'system_fingerprint': None, 'id': 'chatcmpl-CGmvR8Ok6gThnvy9Svhqcoil1bfOZ', 'service_tier': 'default', 'finish_reason': 'stop', 'logprobs': None}, id='run--9809d3c7-0b4d-4d43-b086-6a522067136a-0', usage_metadata={'input_tokens': 44, 'output_tokens': 111, 'total_tokens': 155, 'input_token_details': {'audio': 0, 'cache_read': 0}, 'output_token_details': {'audio': 0, 'reasoning': 0}})"
      ]
     },
     "execution_count": 31,
     "metadata": {},
     "output_type": "execute_result"
    }
   ],
   "source": [
    "chat_model.invoke(messages)"
   ]
  },
  {
   "cell_type": "code",
   "execution_count": 32,
   "id": "5dbce51e",
   "metadata": {},
   "outputs": [],
   "source": [
    "messages = [\n",
    "    SystemMessage(\n",
    "        content=\"\"\"Você é um assistente com conhecimento em\n",
    "saúde. Responda apenas a perguntas relacionadas à saúde.\"\"\"\n",
    "    ),\n",
    "    HumanMessage(content=\"Como faço para trocar um pneu?\"),\n",
    "]"
   ]
  },
  {
   "cell_type": "code",
   "execution_count": 33,
   "id": "e18a093c",
   "metadata": {},
   "outputs": [
    {
     "data": {
      "text/plain": [
       "AIMessage(content='Desculpe, estou disponível para responder apenas perguntas relacionadas à saúde. Posso te ajudar com alguma dúvida nessa área?', additional_kwargs={'refusal': None}, response_metadata={'token_usage': {'completion_tokens': 33, 'prompt_tokens': 46, 'total_tokens': 79, 'completion_tokens_details': {'accepted_prediction_tokens': 0, 'audio_tokens': 0, 'reasoning_tokens': 0, 'rejected_prediction_tokens': 0}, 'prompt_tokens_details': {'audio_tokens': 0, 'cached_tokens': 0}}, 'model_name': 'gpt-3.5-turbo-0125', 'system_fingerprint': None, 'id': 'chatcmpl-CGmvSTpskP57Mr521cnPsWl96ZVtE', 'service_tier': 'default', 'finish_reason': 'stop', 'logprobs': None}, id='run--b73ca72d-dc0a-466f-9c63-593df21c57b1-0', usage_metadata={'input_tokens': 46, 'output_tokens': 33, 'total_tokens': 79, 'input_token_details': {'audio': 0, 'cache_read': 0}, 'output_token_details': {'audio': 0, 'reasoning': 0}})"
      ]
     },
     "execution_count": 33,
     "metadata": {},
     "output_type": "execute_result"
    }
   ],
   "source": [
    "chat_model.invoke(messages)"
   ]
  },
  {
   "cell_type": "code",
   "execution_count": 34,
   "id": "a4205e10",
   "metadata": {},
   "outputs": [
    {
     "data": {
      "text/plain": [
       "AIMessage(content='A pressão arterial é a pressão do sangue dentro dos vasos sanguíneos. É expressa por dois valores: a pressão sistólica, que é o valor máximo da pressão durante a contração do coração, e a pressão diastólica, que é o valor mínimo da pressão quando o coração relaxa entre batimentos. A pressão arterial é medida em milímetros de mercúrio (mmHg) e é um importante indicador da saúde cardiovascular de uma pessoa. Valores normais de pressão arterial são geralmente considerados em torno de 120/80 mmHg. Quando a pressão arterial está alta (hipertensão), pode aumentar o risco de doenças cardiovasculares, derrame e outros problemas de saúde.', additional_kwargs={'refusal': None}, response_metadata={'token_usage': {'completion_tokens': 171, 'prompt_tokens': 14, 'total_tokens': 185, 'completion_tokens_details': {'accepted_prediction_tokens': 0, 'audio_tokens': 0, 'reasoning_tokens': 0, 'rejected_prediction_tokens': 0}, 'prompt_tokens_details': {'audio_tokens': 0, 'cached_tokens': 0}}, 'model_name': 'gpt-3.5-turbo-0125', 'system_fingerprint': None, 'id': 'chatcmpl-CGmvUUA7YtrLEW3XGFkeNRxkUAlmF', 'service_tier': 'default', 'finish_reason': 'stop', 'logprobs': None}, id='run--7683a458-a619-43db-9fd0-d3f708fab355-0', usage_metadata={'input_tokens': 14, 'output_tokens': 171, 'total_tokens': 185, 'input_token_details': {'audio': 0, 'cache_read': 0}, 'output_token_details': {'audio': 0, 'reasoning': 0}})"
      ]
     },
     "execution_count": 34,
     "metadata": {},
     "output_type": "execute_result"
    }
   ],
   "source": [
    "chat_model.invoke(\"O que é pressão arterial?\")"
   ]
  },
  {
   "cell_type": "markdown",
   "id": "6a107750",
   "metadata": {},
   "source": [
    "## Modelos de prompt"
   ]
  },
  {
   "cell_type": "code",
   "execution_count": 35,
   "id": "550f27b7",
   "metadata": {},
   "outputs": [],
   "source": [
    "from langchain.prompts import ChatPromptTemplate"
   ]
  },
  {
   "cell_type": "code",
   "execution_count": 36,
   "id": "b5b79fae",
   "metadata": {},
   "outputs": [],
   "source": [
    "review_template_str = \"\"\"Seu trabalho é usar avaliações de pacientes para responder a perguntas sobre a experiência deles em um hospital. Use o contexto a seguir para responder às perguntas. Seja o mais detalhado possível, mas não invente nenhuma informação que não esteja no contexto. Se você não sabe uma resposta, diga que não sabe agora.\n",
    "\n",
    "{context}\n",
    "\n",
    "{question}\n",
    "\"\"\""
   ]
  },
  {
   "cell_type": "code",
   "execution_count": 37,
   "id": "fd089bea",
   "metadata": {},
   "outputs": [],
   "source": [
    "review_template = ChatPromptTemplate.from_template(review_template_str)"
   ]
  },
  {
   "cell_type": "code",
   "execution_count": 38,
   "id": "d43379ab",
   "metadata": {},
   "outputs": [],
   "source": [
    "context = \"Tive uma ótima estadia!\"\n",
    "question = \"Alguém teve uma experiência positiva?\""
   ]
  },
  {
   "cell_type": "code",
   "execution_count": 40,
   "id": "7581098c",
   "metadata": {},
   "outputs": [
    {
     "data": {
      "text/plain": [
       "'Human: Seu trabalho é usar avaliações de pacientes para responder a perguntas sobre a experiência deles em um hospital. Use o contexto a seguir para responder às perguntas. Seja o mais detalhado possível, mas não invente nenhuma informação que não esteja no contexto. Se você não sabe uma resposta, diga que não sabe agora.\\n\\nTive uma ótima estadia!\\n\\nAlguém teve uma experiência positiva?\\n'"
      ]
     },
     "execution_count": 40,
     "metadata": {},
     "output_type": "execute_result"
    }
   ],
   "source": [
    "review_template.format(context=context, question=question)"
   ]
  }
 ],
 "metadata": {
  "kernelspec": {
   "display_name": ".venv (3.12.10)",
   "language": "python",
   "name": "python3"
  },
  "language_info": {
   "codemirror_mode": {
    "name": "ipython",
    "version": 3
   },
   "file_extension": ".py",
   "mimetype": "text/x-python",
   "name": "python",
   "nbconvert_exporter": "python",
   "pygments_lexer": "ipython3",
   "version": "3.12.10"
  }
 },
 "nbformat": 4,
 "nbformat_minor": 5
}
