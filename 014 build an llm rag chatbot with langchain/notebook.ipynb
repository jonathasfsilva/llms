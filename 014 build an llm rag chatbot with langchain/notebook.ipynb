{
 "cells": [
  {
   "cell_type": "markdown",
   "id": "0bd1a7cc",
   "metadata": {},
   "source": [
    "## Modelos de bate-papo"
   ]
  },
  {
   "cell_type": "code",
   "execution_count": 52,
   "id": "a94029e9",
   "metadata": {},
   "outputs": [],
   "source": [
    "from langchain.schema.messages import HumanMessage, SystemMessage\n",
    "from langchain_intro.chatbot import chat_model"
   ]
  },
  {
   "cell_type": "code",
   "execution_count": 53,
   "id": "46aac002",
   "metadata": {},
   "outputs": [],
   "source": [
    "\n",
    "messages = [\n",
    "    SystemMessage(\n",
    "        content=\"\"\"Você é um assistente com conhecimento em\n",
    "saúde. Responda apenas a perguntas relacionadas à saúde.\"\"\"\n",
    "    ),\n",
    "    HumanMessage(content=\"O que é o Medicaid Managed Care?\"),\n",
    "]\n"
   ]
  },
  {
   "cell_type": "code",
   "execution_count": 54,
   "id": "0ad4f878",
   "metadata": {},
   "outputs": [
    {
     "data": {
      "text/plain": [
       "AIMessage(content='O Medicaid Managed Care é um programa do governo dos EUA que oferece serviços de saúde para pessoas de baixa renda e suas famílias. Neste programa, os estados contratam planos de saúde privados para administrar e coordenar os serviços de saúde para os beneficiários do Medicaid. Isso inclui a prestação de cuidados primários, encaminhamentos para especialistas, assistência hospitalar, serviços de saúde mental, entre outros. O objetivo do Medicaid Managed Care é melhorar a coordenação dos cuidados de saúde, controlar os custos e melhorar os resultados de saúde para os beneficiários.', additional_kwargs={'refusal': None}, response_metadata={'token_usage': {'completion_tokens': 132, 'prompt_tokens': 44, 'total_tokens': 176, 'completion_tokens_details': {'accepted_prediction_tokens': 0, 'audio_tokens': 0, 'reasoning_tokens': 0, 'rejected_prediction_tokens': 0}, 'prompt_tokens_details': {'audio_tokens': 0, 'cached_tokens': 0}}, 'model_name': 'gpt-3.5-turbo-0125', 'system_fingerprint': None, 'id': 'chatcmpl-CGn3GTbpnexUmuyQFipXGV5IZvCXQ', 'service_tier': 'default', 'finish_reason': 'stop', 'logprobs': None}, id='run--2d2ffdae-8a35-4bf5-b096-0768f0a719c0-0', usage_metadata={'input_tokens': 44, 'output_tokens': 132, 'total_tokens': 176, 'input_token_details': {'audio': 0, 'cache_read': 0}, 'output_token_details': {'audio': 0, 'reasoning': 0}})"
      ]
     },
     "execution_count": 54,
     "metadata": {},
     "output_type": "execute_result"
    }
   ],
   "source": [
    "chat_model.invoke(messages)"
   ]
  },
  {
   "cell_type": "code",
   "execution_count": 55,
   "id": "5dbce51e",
   "metadata": {},
   "outputs": [],
   "source": [
    "messages = [\n",
    "    SystemMessage(\n",
    "        content=\"\"\"Você é um assistente com conhecimento em\n",
    "saúde. Responda apenas a perguntas relacionadas à saúde.\"\"\"\n",
    "    ),\n",
    "    HumanMessage(content=\"Como faço para trocar um pneu?\"),\n",
    "]"
   ]
  },
  {
   "cell_type": "code",
   "execution_count": 56,
   "id": "e18a093c",
   "metadata": {},
   "outputs": [
    {
     "data": {
      "text/plain": [
       "AIMessage(content='Desculpe, não posso te ajudar com isso. Se tiver alguma pergunta relacionada à saúde, estou à disposição para responder.', additional_kwargs={'refusal': None}, response_metadata={'token_usage': {'completion_tokens': 33, 'prompt_tokens': 46, 'total_tokens': 79, 'completion_tokens_details': {'accepted_prediction_tokens': 0, 'audio_tokens': 0, 'reasoning_tokens': 0, 'rejected_prediction_tokens': 0}, 'prompt_tokens_details': {'audio_tokens': 0, 'cached_tokens': 0}}, 'model_name': 'gpt-3.5-turbo-0125', 'system_fingerprint': None, 'id': 'chatcmpl-CGn3HxedggeBQ7C33wNkZKvY7nKFq', 'service_tier': 'default', 'finish_reason': 'stop', 'logprobs': None}, id='run--3c808e3a-8b24-4dc8-8167-7f24b4109402-0', usage_metadata={'input_tokens': 46, 'output_tokens': 33, 'total_tokens': 79, 'input_token_details': {'audio': 0, 'cache_read': 0}, 'output_token_details': {'audio': 0, 'reasoning': 0}})"
      ]
     },
     "execution_count": 56,
     "metadata": {},
     "output_type": "execute_result"
    }
   ],
   "source": [
    "chat_model.invoke(messages)"
   ]
  },
  {
   "cell_type": "code",
   "execution_count": 57,
   "id": "a4205e10",
   "metadata": {},
   "outputs": [
    {
     "data": {
      "text/plain": [
       "AIMessage(content='A pressão arterial é a força exercida pelo sangue contra as paredes das artérias quando o coração bombeia o sangue pelo corpo. É medida em milímetros de mercúrio (mmHg) e é composta por dois valores: a pressão sistólica, que é o valor mais alto e representa a pressão nas artérias quando o coração se contrai, e a pressão diastólica, que é o valor mais baixo e representa a pressão nas artérias quando o coração relaxa entre os batimentos. A pressão arterial é um importante indicador da saúde cardiovascular e é geralmente expressa como um valor de dois dígitos (por exemplo, 120/80 mmHg). Valores elevados de pressão arterial podem indicar hipertensão, o que aumenta o risco de doenças cardiovasculares.', additional_kwargs={'refusal': None}, response_metadata={'token_usage': {'completion_tokens': 193, 'prompt_tokens': 14, 'total_tokens': 207, 'completion_tokens_details': {'accepted_prediction_tokens': 0, 'audio_tokens': 0, 'reasoning_tokens': 0, 'rejected_prediction_tokens': 0}, 'prompt_tokens_details': {'audio_tokens': 0, 'cached_tokens': 0}}, 'model_name': 'gpt-3.5-turbo-0125', 'system_fingerprint': None, 'id': 'chatcmpl-CGn3JcKMF0bwalgdfNGCynRbcImGZ', 'service_tier': 'default', 'finish_reason': 'stop', 'logprobs': None}, id='run--3bd1c352-5336-476d-8256-47948418504a-0', usage_metadata={'input_tokens': 14, 'output_tokens': 193, 'total_tokens': 207, 'input_token_details': {'audio': 0, 'cache_read': 0}, 'output_token_details': {'audio': 0, 'reasoning': 0}})"
      ]
     },
     "execution_count": 57,
     "metadata": {},
     "output_type": "execute_result"
    }
   ],
   "source": [
    "chat_model.invoke(\"O que é pressão arterial?\")"
   ]
  },
  {
   "cell_type": "markdown",
   "id": "6a107750",
   "metadata": {},
   "source": [
    "## Modelos de prompt"
   ]
  },
  {
   "cell_type": "code",
   "execution_count": 58,
   "id": "550f27b7",
   "metadata": {},
   "outputs": [],
   "source": [
    "from langchain.prompts import ChatPromptTemplate"
   ]
  },
  {
   "cell_type": "code",
   "execution_count": 59,
   "id": "b5b79fae",
   "metadata": {},
   "outputs": [],
   "source": [
    "review_template_str = \"\"\"Seu trabalho é usar avaliações de pacientes para responder a perguntas sobre a experiência deles em um hospital. Use o contexto a seguir para responder às perguntas. Seja o mais detalhado possível, mas não invente nenhuma informação que não esteja no contexto. Se você não sabe uma resposta, diga que não sabe agora.\n",
    "\n",
    "{context}\n",
    "\n",
    "{question}\n",
    "\"\"\""
   ]
  },
  {
   "cell_type": "code",
   "execution_count": 60,
   "id": "fd089bea",
   "metadata": {},
   "outputs": [],
   "source": [
    "review_template = ChatPromptTemplate.from_template(review_template_str)"
   ]
  },
  {
   "cell_type": "code",
   "execution_count": 61,
   "id": "d43379ab",
   "metadata": {},
   "outputs": [],
   "source": [
    "context = \"Tive uma ótima estadia!\"\n",
    "question = \"Alguém teve uma experiência positiva?\""
   ]
  },
  {
   "cell_type": "code",
   "execution_count": 62,
   "id": "7581098c",
   "metadata": {},
   "outputs": [
    {
     "data": {
      "text/plain": [
       "'Human: Seu trabalho é usar avaliações de pacientes para responder a perguntas sobre a experiência deles em um hospital. Use o contexto a seguir para responder às perguntas. Seja o mais detalhado possível, mas não invente nenhuma informação que não esteja no contexto. Se você não sabe uma resposta, diga que não sabe agora.\\n\\nTive uma ótima estadia!\\n\\nAlguém teve uma experiência positiva?\\n'"
      ]
     },
     "execution_count": 62,
     "metadata": {},
     "output_type": "execute_result"
    }
   ],
   "source": [
    "review_template.format(context=context, question=question)"
   ]
  }
 ],
 "metadata": {
  "kernelspec": {
   "display_name": ".venv (3.12.10)",
   "language": "python",
   "name": "python3"
  },
  "language_info": {
   "codemirror_mode": {
    "name": "ipython",
    "version": 3
   },
   "file_extension": ".py",
   "mimetype": "text/x-python",
   "name": "python",
   "nbconvert_exporter": "python",
   "pygments_lexer": "ipython3",
   "version": "3.12.10"
  }
 },
 "nbformat": 4,
 "nbformat_minor": 5
}
