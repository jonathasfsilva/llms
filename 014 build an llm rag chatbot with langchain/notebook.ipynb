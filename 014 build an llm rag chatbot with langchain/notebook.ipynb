{
 "cells": [
  {
   "cell_type": "markdown",
   "id": "0bd1a7cc",
   "metadata": {},
   "source": [
    "## Modelos de bate-papo"
   ]
  },
  {
   "cell_type": "code",
   "execution_count": 19,
   "id": "a94029e9",
   "metadata": {},
   "outputs": [],
   "source": [
    "from langchain.schema.messages import HumanMessage, SystemMessage\n",
    "from langchain_intro.chatbot import chat_model"
   ]
  },
  {
   "cell_type": "code",
   "execution_count": 20,
   "id": "46aac002",
   "metadata": {},
   "outputs": [],
   "source": [
    "\n",
    "messages = [\n",
    "    SystemMessage(\n",
    "        content=\"\"\"Você é um assistente com conhecimento em\n",
    "saúde. Responda apenas a perguntas relacionadas à saúde.\"\"\"\n",
    "    ),\n",
    "    HumanMessage(content=\"O que é o Medicaid Managed Care?\"),\n",
    "]\n"
   ]
  },
  {
   "cell_type": "code",
   "execution_count": 21,
   "id": "0ad4f878",
   "metadata": {},
   "outputs": [
    {
     "data": {
      "text/plain": [
       "AIMessage(content='O Medicaid Managed Care é um programa de saúde do governo dos Estados Unidos que oferece serviços de saúde para pessoas de baixa renda e com necessidades especiais. Neste programa, os beneficiários recebem serviços de saúde através de organizações de saúde gerenciadas, que são responsáveis por coordenar e fornecer os cuidados de saúde necessários. O objetivo do Medicaid Managed Care é melhorar o acesso aos cuidados de saúde, a qualidade dos serviços e a eficiência do sistema de saúde para os beneficiários do Medicaid.', additional_kwargs={'refusal': None}, response_metadata={'token_usage': {'completion_tokens': 113, 'prompt_tokens': 44, 'total_tokens': 157, 'completion_tokens_details': {'accepted_prediction_tokens': 0, 'audio_tokens': 0, 'reasoning_tokens': 0, 'rejected_prediction_tokens': 0}, 'prompt_tokens_details': {'audio_tokens': 0, 'cached_tokens': 0}}, 'model_name': 'gpt-3.5-turbo-0125', 'system_fingerprint': None, 'id': 'chatcmpl-CGrfK8zdiuRYscFJzz5U7y7rcWXoV', 'service_tier': 'default', 'finish_reason': 'stop', 'logprobs': None}, id='run--bcf06c52-06f7-4120-9250-529ec3f42945-0', usage_metadata={'input_tokens': 44, 'output_tokens': 113, 'total_tokens': 157, 'input_token_details': {'audio': 0, 'cache_read': 0}, 'output_token_details': {'audio': 0, 'reasoning': 0}})"
      ]
     },
     "execution_count": 21,
     "metadata": {},
     "output_type": "execute_result"
    }
   ],
   "source": [
    "chat_model.invoke(messages)"
   ]
  },
  {
   "cell_type": "code",
   "execution_count": 22,
   "id": "5dbce51e",
   "metadata": {},
   "outputs": [],
   "source": [
    "messages = [\n",
    "    SystemMessage(\n",
    "        content=\"\"\"Você é um assistente com conhecimento em\n",
    "saúde. Responda apenas a perguntas relacionadas à saúde.\"\"\"\n",
    "    ),\n",
    "    HumanMessage(content=\"Como faço para trocar um pneu?\"),\n",
    "]"
   ]
  },
  {
   "cell_type": "code",
   "execution_count": 23,
   "id": "e18a093c",
   "metadata": {},
   "outputs": [
    {
     "data": {
      "text/plain": [
       "AIMessage(content='Desculpe, mas não posso ajudar com essa pergunta, pois não está relacionada à saúde. Posso te ajudar com alguma dúvida sobre saúde?', additional_kwargs={'refusal': None}, response_metadata={'token_usage': {'completion_tokens': 37, 'prompt_tokens': 46, 'total_tokens': 83, 'completion_tokens_details': {'accepted_prediction_tokens': 0, 'audio_tokens': 0, 'reasoning_tokens': 0, 'rejected_prediction_tokens': 0}, 'prompt_tokens_details': {'audio_tokens': 0, 'cached_tokens': 0}}, 'model_name': 'gpt-3.5-turbo-0125', 'system_fingerprint': None, 'id': 'chatcmpl-CGrfMgp2v6ZcYGfoTu8MzsjPeMWx7', 'service_tier': 'default', 'finish_reason': 'stop', 'logprobs': None}, id='run--0d1edf61-9d0c-4ef1-b49c-ea8f3b3d8e57-0', usage_metadata={'input_tokens': 46, 'output_tokens': 37, 'total_tokens': 83, 'input_token_details': {'audio': 0, 'cache_read': 0}, 'output_token_details': {'audio': 0, 'reasoning': 0}})"
      ]
     },
     "execution_count": 23,
     "metadata": {},
     "output_type": "execute_result"
    }
   ],
   "source": [
    "chat_model.invoke(messages)"
   ]
  },
  {
   "cell_type": "code",
   "execution_count": 24,
   "id": "a4205e10",
   "metadata": {},
   "outputs": [
    {
     "data": {
      "text/plain": [
       "AIMessage(content='A pressão arterial é a força exercida pelo sangue contra as paredes das artérias enquanto o coração bombeia o sangue pelo corpo. É medida em milímetros de mercúrio (mmHg) e é composta por dois valores: a pressão sistólica, que é a pressão máxima durante a contração do coração, e a pressão diastólica, que é a pressão mínima quando o coração relaxa entre batimentos. A pressão arterial é um importante indicador da saúde cardiovascular e pode ser afetada por diversos fatores, como dieta, exercício físico, estresse, idade e genética. Valores elevados de pressão arterial podem aumentar o risco de doenças cardiovasculares, como hipertensão, acidente vascular cerebral e doença cardíaca.', additional_kwargs={'refusal': None}, response_metadata={'token_usage': {'completion_tokens': 184, 'prompt_tokens': 14, 'total_tokens': 198, 'completion_tokens_details': {'accepted_prediction_tokens': 0, 'audio_tokens': 0, 'reasoning_tokens': 0, 'rejected_prediction_tokens': 0}, 'prompt_tokens_details': {'audio_tokens': 0, 'cached_tokens': 0}}, 'model_name': 'gpt-3.5-turbo-0125', 'system_fingerprint': None, 'id': 'chatcmpl-CGrfNzEglhp9oyTLDCTPuLZcqudpU', 'service_tier': 'default', 'finish_reason': 'stop', 'logprobs': None}, id='run--dd98e1b2-87e2-4913-9a2a-d32ed626a579-0', usage_metadata={'input_tokens': 14, 'output_tokens': 184, 'total_tokens': 198, 'input_token_details': {'audio': 0, 'cache_read': 0}, 'output_token_details': {'audio': 0, 'reasoning': 0}})"
      ]
     },
     "execution_count": 24,
     "metadata": {},
     "output_type": "execute_result"
    }
   ],
   "source": [
    "chat_model.invoke(\"O que é pressão arterial?\")"
   ]
  },
  {
   "cell_type": "markdown",
   "id": "6a107750",
   "metadata": {},
   "source": [
    "## Modelos de prompt"
   ]
  },
  {
   "cell_type": "code",
   "execution_count": 25,
   "id": "550f27b7",
   "metadata": {},
   "outputs": [],
   "source": [
    "from langchain.prompts import ChatPromptTemplate"
   ]
  },
  {
   "cell_type": "code",
   "execution_count": 26,
   "id": "b5b79fae",
   "metadata": {},
   "outputs": [],
   "source": [
    "review_template_str = \"\"\"Seu trabalho é usar avaliações de pacientes para responder a perguntas sobre a experiência deles em um hospital. Use o contexto a seguir para responder às perguntas. Seja o mais detalhado possível, mas não invente nenhuma informação que não esteja no contexto. Se você não sabe uma resposta, diga que não sabe agora.\n",
    "\n",
    "{context}\n",
    "\n",
    "{question}\n",
    "\"\"\""
   ]
  },
  {
   "cell_type": "code",
   "execution_count": 27,
   "id": "fd089bea",
   "metadata": {},
   "outputs": [],
   "source": [
    "review_template = ChatPromptTemplate.from_template(review_template_str)"
   ]
  },
  {
   "cell_type": "code",
   "execution_count": 28,
   "id": "d43379ab",
   "metadata": {},
   "outputs": [],
   "source": [
    "context = \"Tive uma ótima estadia!\"\n",
    "question = \"Alguém teve uma experiência positiva?\""
   ]
  },
  {
   "cell_type": "code",
   "execution_count": 29,
   "id": "7581098c",
   "metadata": {},
   "outputs": [
    {
     "data": {
      "text/plain": [
       "'Human: Seu trabalho é usar avaliações de pacientes para responder a perguntas sobre a experiência deles em um hospital. Use o contexto a seguir para responder às perguntas. Seja o mais detalhado possível, mas não invente nenhuma informação que não esteja no contexto. Se você não sabe uma resposta, diga que não sabe agora.\\n\\nTive uma ótima estadia!\\n\\nAlguém teve uma experiência positiva?\\n'"
      ]
     },
     "execution_count": 29,
     "metadata": {},
     "output_type": "execute_result"
    }
   ],
   "source": [
    "review_template.format(context=context, question=question)"
   ]
  },
  {
   "cell_type": "markdown",
   "id": "1f21dd2c",
   "metadata": {},
   "source": [
    "## Cadeias e Linguagem de Expressão LangChain (LCEL)"
   ]
  },
  {
   "cell_type": "code",
   "execution_count": 33,
   "id": "4e9d6e00",
   "metadata": {},
   "outputs": [],
   "source": [
    "from langchain_intro.chatbot import review_chain"
   ]
  },
  {
   "cell_type": "code",
   "execution_count": 34,
   "id": "615784e2",
   "metadata": {},
   "outputs": [],
   "source": [
    "context = \"Eu tive uma ótima estadia!\"\n",
    "question = \"Alguém teve uma experiência positiva?\""
   ]
  },
  {
   "cell_type": "code",
   "execution_count": 35,
   "id": "56cf805a",
   "metadata": {},
   "outputs": [
    {
     "data": {
      "text/plain": [
       "AIMessage(content='Sim, a pessoa que forneceu o feedback teve uma experiência positiva durante a sua estadia no hospital. Eles mencionaram que tiveram uma ótima estadia, o que indica que ficaram satisfeitos com os serviços e atendimento recebidos.', additional_kwargs={'refusal': None}, response_metadata={'token_usage': {'completion_tokens': 61, 'prompt_tokens': 107, 'total_tokens': 168, 'completion_tokens_details': {'accepted_prediction_tokens': 0, 'audio_tokens': 0, 'reasoning_tokens': 0, 'rejected_prediction_tokens': 0}, 'prompt_tokens_details': {'audio_tokens': 0, 'cached_tokens': 0}}, 'model_name': 'gpt-3.5-turbo-0125', 'system_fingerprint': None, 'id': 'chatcmpl-CGrhQVwkUvonXcdP3ZR5iDdr5lQO2', 'service_tier': 'default', 'finish_reason': 'stop', 'logprobs': None}, id='run--436d98f2-5e12-458b-bf5c-46df1e03bc50-0', usage_metadata={'input_tokens': 107, 'output_tokens': 61, 'total_tokens': 168, 'input_token_details': {'audio': 0, 'cache_read': 0}, 'output_token_details': {'audio': 0, 'reasoning': 0}})"
      ]
     },
     "execution_count": 35,
     "metadata": {},
     "output_type": "execute_result"
    }
   ],
   "source": [
    "review_chain.invoke({\"context\": context, \"question\": question})"
   ]
  }
 ],
 "metadata": {
  "kernelspec": {
   "display_name": ".venv (3.12.10)",
   "language": "python",
   "name": "python3"
  },
  "language_info": {
   "codemirror_mode": {
    "name": "ipython",
    "version": 3
   },
   "file_extension": ".py",
   "mimetype": "text/x-python",
   "name": "python",
   "nbconvert_exporter": "python",
   "pygments_lexer": "ipython3",
   "version": "3.12.10"
  }
 },
 "nbformat": 4,
 "nbformat_minor": 5
}
