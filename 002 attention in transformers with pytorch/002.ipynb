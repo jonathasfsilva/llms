{
 "cells": [
  {
   "cell_type": "markdown",
   "id": "9f40c232-df6e-49df-9016-6459e4af2e1e",
   "metadata": {
    "tags": []
   },
   "source": [
    "# Coding Masked Self-Attention in PyTroch!!!"
   ]
  },
  {
   "cell_type": "markdown",
   "id": "f4226d63-8d76-40bc-a8e6-0f290a159418",
   "metadata": {},
   "source": [
    "----\n",
    "\n",
    "Neste tutorial, codificaremos a **Autoatenção Mascarada** em **[PyTorch](https://pytorch.org/)**. A **Atenção** é um componente essencial dos **Transformadores** de redes neurais, que estão impulsionando o entusiasmo atual em **Modelos de Linguagem de Grande Porte** e IA. Especificamente, um **Transformador Somente Decodificador**, ilustrado abaixo, é a base para o popular modelo **ChatGPT**.\n",
    "\n",
    "<img src=\"./images/dec_transformer.png\" alt=\"uma rede neural transformadora somente decodificadora\" style=\"width: 800px;\">\n",
    "\n",
    "No coração do **ChatGPT** está a **Autoatenção Mascarada**, que permite estabelecer relações entre palavras, caracteres e símbolos, ao mesmo tempo que torna relativamente fácil treinar o modelo para prever o que virá a seguir. Por exemplo, na ilustração abaixo, onde a palavra **it** poderia potencialmente se referir a **pizza** ou **oven**, a **Masked Self-Attention** poderia ajudar um **Transformer** a estabelecer a relação correta entre a palavra **it** e **pizza**, além de treiná-lo eficientemente para prever as palavras que vêm depois, **tasted good**.\n",
    "\n",
    "<img src=\"./images/masked_self_attention_1.png\" alt=\"uma ilustração de como funciona a masked self-attention\" style=\"width: 800px;\">\n",
    "\n",
    "Neste tutorial, você irá...\n",
    "\n",
    "- **[Códifique uma Classe Masked Self-Attention!!!](#masked)** A classe masked self-attention permite que o transformador estabeleça relações entre palavras e tokens e seja treinado eficientemente para prever o que vem a seguir.\n",
    "\n",
    "- **[Calcular Valores de Autoatenção Mascarada!!!](#calculate)** Em seguida, usaremos a classe que criamos, MaskedSelfAttention, para calcular os valores de autoatenção mascarada para alguns dados de exemplo.\n",
    "\n",
    "- **[Verificar os Cálculos!!!](#validate)** Por fim, validaremos os cálculos feitos pela classe MaskedSelfAttention."
   ]
  },
  {
   "cell_type": "markdown",
   "id": "855d3a52-a43e-44cf-b8b6-b2ce88bea382",
   "metadata": {},
   "source": [
    "----"
   ]
  },
  {
   "cell_type": "markdown",
   "id": "63b86036-1369-441c-a14d-3ba7bdaa103b",
   "metadata": {
    "tags": []
   },
   "source": [
    "# Imports"
   ]
  },
  {
   "cell_type": "code",
   "execution_count": 1,
   "id": "5c520e0b-c6e4-43ce-93f5-c0f2b5e75438",
   "metadata": {},
   "outputs": [
    {
     "name": "stderr",
     "output_type": "stream",
     "text": [
      "c:\\Users\\jonat\\development\\llms\\002 attention in transformers with pytorch\\.venv\\Lib\\site-packages\\torch\\_subclasses\\functional_tensor.py:258: UserWarning: Failed to initialize NumPy: No module named 'numpy' (Triggered internally at C:\\actions-runner\\_work\\pytorch\\pytorch\\builder\\windows\\pytorch\\torch\\csrc\\utils\\tensor_numpy.cpp:84.)\n",
      "  cpu = _conversion_method_template(device=torch.device(\"cpu\"))\n"
     ]
    }
   ],
   "source": [
    "import torch ## torch let's us create tensors and also provides helper functions\n",
    "import torch.nn as nn ## torch.nn gives us nn.module() and nn.Linear()\n",
    "import torch.nn.functional as F # This gives us the softmax()"
   ]
  },
  {
   "cell_type": "markdown",
   "id": "6e58ebb2-1798-41c3-9ff8-1b4f50605964",
   "metadata": {},
   "source": [
    "----"
   ]
  },
  {
   "cell_type": "markdown",
   "id": "125c4f0d-83b6-488f-8d91-66c54776bf2f",
   "metadata": {},
   "source": [
    "# Codigo Masked Self-Attention\n",
    "<a id=\"masked\"></a>"
   ]
  },
  {
   "cell_type": "code",
   "execution_count": 2,
   "id": "e3392130-cd25-4000-97bb-9612764c83a8",
   "metadata": {},
   "outputs": [],
   "source": [
    "class MaskedSelfAttention(nn.Module): \n",
    "                            \n",
    "    def __init__(self, d_model=2,  \n",
    "                 row_dim=0, \n",
    "                 col_dim=1):\n",
    "        \n",
    "        super().__init__()\n",
    "        \n",
    "        self.W_q = nn.Linear(in_features=d_model, out_features=d_model, bias=False)\n",
    "        self.W_k = nn.Linear(in_features=d_model, out_features=d_model, bias=False)\n",
    "        self.W_v = nn.Linear(in_features=d_model, out_features=d_model, bias=False)\n",
    "        \n",
    "        self.row_dim = row_dim\n",
    "        self.col_dim = col_dim\n",
    "\n",
    "        \n",
    "    def forward(self, token_encodings, mask=None):\n",
    "\n",
    "        q = self.W_q(token_encodings)\n",
    "        k = self.W_k(token_encodings)\n",
    "        v = self.W_v(token_encodings)\n",
    "\n",
    "        sims = torch.matmul(q, k.transpose(dim0=self.row_dim, dim1=self.col_dim))\n",
    "\n",
    "        scaled_sims = sims / torch.tensor(k.size(self.col_dim)**0.5)\n",
    "\n",
    "        if mask is not None:\n",
    "            ## Here we are masking out things we don't want to pay attention to\n",
    "            ##\n",
    "            ## We replace values we wanted masked out\n",
    "            ## with a very small negative number so that the SoftMax() function\n",
    "            ## will give all masked elements an output value (or \"probability\") of 0.\n",
    "            scaled_sims = scaled_sims.masked_fill(mask=mask, value=-1e9) # I've also seen -1e20 and -9e15 used in masking\n",
    "\n",
    "        attention_percents = F.softmax(scaled_sims, dim=self.col_dim)\n",
    "\n",
    "        attention_scores = torch.matmul(attention_percents, v)\n",
    "\n",
    "        return attention_scores"
   ]
  },
  {
   "cell_type": "markdown",
   "id": "371cd1e0-0216-438d-a241-05533e4b374d",
   "metadata": {},
   "source": [
    "----"
   ]
  },
  {
   "cell_type": "markdown",
   "id": "c75aaaa3-29e0-4c03-8a11-816bd4b7aea3",
   "metadata": {},
   "source": [
    "# Calcular Masked Self-Attention\n",
    "<a id=\"masked\"></a>"
   ]
  },
  {
   "cell_type": "code",
   "execution_count": 3,
   "id": "0946c6d7-9960-4f49-8aa6-20dd614efbdc",
   "metadata": {},
   "outputs": [
    {
     "data": {
      "text/plain": [
       "tensor([[False,  True,  True],\n",
       "        [False, False,  True],\n",
       "        [False, False, False]])"
      ]
     },
     "execution_count": 3,
     "metadata": {},
     "output_type": "execute_result"
    }
   ],
   "source": [
    "## create a matrix of token encodings...\n",
    "encodings_matrix = torch.tensor([[1.16, 0.23],\n",
    "                                 [0.57, 1.36],\n",
    "                                 [4.41, -2.16]])\n",
    "\n",
    "## set the seed for the random number generator\n",
    "torch.manual_seed(42)\n",
    "\n",
    "## create a masked self-attention object\n",
    "maskedSelfAttention = MaskedSelfAttention(d_model=2,\n",
    "                               row_dim=0,\n",
    "                               col_dim=1)\n",
    "\n",
    "## create the mask so that we don't use\n",
    "## tokens that come after a token of interest\n",
    "mask = torch.tril(torch.ones(3, 3))\n",
    "mask = mask == 0\n",
    "mask # print out the mask"
   ]
  },
  {
   "cell_type": "code",
   "execution_count": 4,
   "id": "dbfda93b-f139-4bc4-aa17-a502888ef48c",
   "metadata": {},
   "outputs": [
    {
     "data": {
      "text/plain": [
       "tensor([[ 0.6038,  0.7434],\n",
       "        [-0.0062,  0.6072],\n",
       "        [ 3.4989,  2.2427]], grad_fn=<MmBackward0>)"
      ]
     },
     "execution_count": 4,
     "metadata": {},
     "output_type": "execute_result"
    }
   ],
   "source": [
    "## calculate masked self-attention\n",
    "maskedSelfAttention(encodings_matrix, mask)"
   ]
  },
  {
   "cell_type": "markdown",
   "id": "1153eec7-5573-41f7-b7de-3106b2ca07f9",
   "metadata": {},
   "source": [
    "----"
   ]
  },
  {
   "cell_type": "markdown",
   "id": "c25086ad-92d0-4396-8484-d9dab376ef50",
   "metadata": {},
   "source": [
    "# Imprimir Pesos e Verificar cálculos\n",
    "<a id=\"validate\"></a>"
   ]
  },
  {
   "cell_type": "code",
   "execution_count": 5,
   "id": "0ceddcba-be60-46fe-80bd-fa74e97ea62f",
   "metadata": {},
   "outputs": [
    {
     "data": {
      "text/plain": [
       "tensor([[ 0.5406, -0.1657],\n",
       "        [ 0.5869,  0.6496]], grad_fn=<TransposeBackward0>)"
      ]
     },
     "execution_count": 5,
     "metadata": {},
     "output_type": "execute_result"
    }
   ],
   "source": [
    "## print out the weight matrix that creates the queries\n",
    "maskedSelfAttention.W_q.weight.transpose(0, 1)"
   ]
  },
  {
   "cell_type": "code",
   "execution_count": 6,
   "id": "c4348097-376a-40fc-a133-7d366ca9a007",
   "metadata": {},
   "outputs": [
    {
     "data": {
      "text/plain": [
       "tensor([[ 0.5406, -0.1657],\n",
       "        [ 0.5869,  0.6496]], grad_fn=<TransposeBackward0>)"
      ]
     },
     "execution_count": 6,
     "metadata": {},
     "output_type": "execute_result"
    }
   ],
   "source": [
    "## print out the weight matrix that creates the queries\n",
    "maskedSelfAttention.W_q.weight.transpose(0, 1)"
   ]
  },
  {
   "cell_type": "code",
   "execution_count": 7,
   "id": "03331fba-9985-48e0-92ba-d72118c7a9c0",
   "metadata": {},
   "outputs": [
    {
     "data": {
      "text/plain": [
       "tensor([[-0.1549, -0.3443],\n",
       "        [ 0.1427,  0.4153]], grad_fn=<TransposeBackward0>)"
      ]
     },
     "execution_count": 7,
     "metadata": {},
     "output_type": "execute_result"
    }
   ],
   "source": [
    "## print out the weight matrix that creates the keys\n",
    "maskedSelfAttention.W_k.weight.transpose(0, 1)"
   ]
  },
  {
   "cell_type": "code",
   "execution_count": 8,
   "id": "89d1e184-4fd0-4e6c-bd24-6916df2f76d8",
   "metadata": {},
   "outputs": [
    {
     "data": {
      "text/plain": [
       "tensor([[ 0.6233,  0.6146],\n",
       "        [-0.5188,  0.1323]], grad_fn=<TransposeBackward0>)"
      ]
     },
     "execution_count": 8,
     "metadata": {},
     "output_type": "execute_result"
    }
   ],
   "source": [
    "## print out the weight matrix that creates the values\n",
    "maskedSelfAttention.W_v.weight.transpose(0, 1)"
   ]
  },
  {
   "cell_type": "code",
   "execution_count": 9,
   "id": "55d27388-5b15-4ee5-b39c-61903df18286",
   "metadata": {},
   "outputs": [
    {
     "data": {
      "text/plain": [
       "tensor([[ 0.7621, -0.0428],\n",
       "        [ 1.1063,  0.7890],\n",
       "        [ 1.1164, -2.1336]], grad_fn=<MmBackward0>)"
      ]
     },
     "execution_count": 9,
     "metadata": {},
     "output_type": "execute_result"
    }
   ],
   "source": [
    "## calculate the queries\n",
    "maskedSelfAttention.W_q(encodings_matrix)"
   ]
  },
  {
   "cell_type": "code",
   "execution_count": 10,
   "id": "c4b3425e-7b2f-4282-b4df-a2da6712c1c6",
   "metadata": {},
   "outputs": [
    {
     "data": {
      "text/plain": [
       "tensor([[-0.1469, -0.3038],\n",
       "        [ 0.1057,  0.3685],\n",
       "        [-0.9914, -2.4152]], grad_fn=<MmBackward0>)"
      ]
     },
     "execution_count": 10,
     "metadata": {},
     "output_type": "execute_result"
    }
   ],
   "source": [
    "## calculate the keys\n",
    "maskedSelfAttention.W_k(encodings_matrix)"
   ]
  },
  {
   "cell_type": "code",
   "execution_count": 11,
   "id": "9ff03c5b-62a6-4cda-94fc-1aac994e4ad5",
   "metadata": {},
   "outputs": [
    {
     "data": {
      "text/plain": [
       "tensor([[ 0.6038,  0.7434],\n",
       "        [-0.3502,  0.5303],\n",
       "        [ 3.8695,  2.4246]], grad_fn=<MmBackward0>)"
      ]
     },
     "execution_count": 11,
     "metadata": {},
     "output_type": "execute_result"
    }
   ],
   "source": [
    "## calculate the values\n",
    "maskedSelfAttention.W_v(encodings_matrix)"
   ]
  },
  {
   "cell_type": "code",
   "execution_count": 12,
   "id": "7d88e411-84ac-4759-abcf-512cf8ff0670",
   "metadata": {},
   "outputs": [
    {
     "data": {
      "text/plain": [
       "tensor([[ 0.7621, -0.0428],\n",
       "        [ 1.1063,  0.7890],\n",
       "        [ 1.1164, -2.1336]], grad_fn=<MmBackward0>)"
      ]
     },
     "execution_count": 12,
     "metadata": {},
     "output_type": "execute_result"
    }
   ],
   "source": [
    "q = maskedSelfAttention.W_q(encodings_matrix)\n",
    "q"
   ]
  },
  {
   "cell_type": "code",
   "execution_count": 13,
   "id": "95e191e2-fab3-4290-8085-b64b436dc5e7",
   "metadata": {},
   "outputs": [
    {
     "data": {
      "text/plain": [
       "tensor([[-0.1469, -0.3038],\n",
       "        [ 0.1057,  0.3685],\n",
       "        [-0.9914, -2.4152]], grad_fn=<MmBackward0>)"
      ]
     },
     "execution_count": 13,
     "metadata": {},
     "output_type": "execute_result"
    }
   ],
   "source": [
    "k = maskedSelfAttention.W_k(encodings_matrix)\n",
    "k"
   ]
  },
  {
   "cell_type": "code",
   "execution_count": 14,
   "id": "b4f55998-e89b-40b6-9021-f764ba32a3b5",
   "metadata": {},
   "outputs": [
    {
     "data": {
      "text/plain": [
       "tensor([[-0.0990,  0.0648, -0.6523],\n",
       "        [-0.4022,  0.4078, -3.0024],\n",
       "        [ 0.4842, -0.6683,  4.0461]], grad_fn=<MmBackward0>)"
      ]
     },
     "execution_count": 14,
     "metadata": {},
     "output_type": "execute_result"
    }
   ],
   "source": [
    "sims = torch.matmul(q, k.transpose(dim0=0, dim1=1))\n",
    "sims"
   ]
  },
  {
   "cell_type": "code",
   "execution_count": 15,
   "id": "91513a34-f0ab-4dd0-a45d-3eeed735681f",
   "metadata": {},
   "outputs": [],
   "source": [
    "scaled_sims = sims / (torch.tensor(2)**0.5)"
   ]
  },
  {
   "cell_type": "code",
   "execution_count": 16,
   "id": "25245f19-d931-4b79-83cf-2e7643ec15da",
   "metadata": {},
   "outputs": [
    {
     "data": {
      "text/plain": [
       "tensor([[-0.0700,  0.0458, -0.4612],\n",
       "        [-0.2844,  0.2883, -2.1230],\n",
       "        [ 0.3424, -0.4725,  2.8610]], grad_fn=<DivBackward0>)"
      ]
     },
     "execution_count": 16,
     "metadata": {},
     "output_type": "execute_result"
    }
   ],
   "source": [
    "scaled_sims"
   ]
  },
  {
   "cell_type": "code",
   "execution_count": 17,
   "id": "ccbf1f7f-f70c-429b-9820-f4b4a3429e9c",
   "metadata": {},
   "outputs": [
    {
     "data": {
      "text/plain": [
       "tensor([[-6.9975e-02, -1.0000e+09, -1.0000e+09],\n",
       "        [-2.8442e-01,  2.8833e-01, -1.0000e+09],\n",
       "        [ 3.4241e-01, -4.7253e-01,  2.8610e+00]],\n",
       "       grad_fn=<MaskedFillBackward0>)"
      ]
     },
     "execution_count": 17,
     "metadata": {},
     "output_type": "execute_result"
    }
   ],
   "source": [
    "masked_scaled_sims = scaled_sims.masked_fill(mask=mask, value=-1e9)\n",
    "masked_scaled_sims"
   ]
  },
  {
   "cell_type": "code",
   "execution_count": 18,
   "id": "e442e681-71c0-406a-a925-d3a08db3de23",
   "metadata": {},
   "outputs": [
    {
     "data": {
      "text/plain": [
       "tensor([[1.0000, 0.0000, 0.0000],\n",
       "        [0.3606, 0.6394, 0.0000],\n",
       "        [0.0722, 0.0320, 0.8959]], grad_fn=<SoftmaxBackward0>)"
      ]
     },
     "execution_count": 18,
     "metadata": {},
     "output_type": "execute_result"
    }
   ],
   "source": [
    "attention_percents = F.softmax(masked_scaled_sims, dim=1)\n",
    "attention_percents"
   ]
  },
  {
   "cell_type": "code",
   "execution_count": 19,
   "id": "aec91f97-5127-4f4c-949f-ffe913b99417",
   "metadata": {},
   "outputs": [
    {
     "data": {
      "text/plain": [
       "tensor([[ 0.6038,  0.7434],\n",
       "        [-0.0062,  0.6072],\n",
       "        [ 3.4989,  2.2427]], grad_fn=<MmBackward0>)"
      ]
     },
     "execution_count": 19,
     "metadata": {},
     "output_type": "execute_result"
    }
   ],
   "source": [
    "torch.matmul(attention_percents, maskedSelfAttention.W_v(encodings_matrix))"
   ]
  }
 ],
 "metadata": {
  "kernelspec": {
   "display_name": ".venv (3.12.10)",
   "language": "python",
   "name": "python3"
  },
  "language_info": {
   "codemirror_mode": {
    "name": "ipython",
    "version": 3
   },
   "file_extension": ".py",
   "mimetype": "text/x-python",
   "name": "python",
   "nbconvert_exporter": "python",
   "pygments_lexer": "ipython3",
   "version": "3.12.10"
  }
 },
 "nbformat": 4,
 "nbformat_minor": 5
}
