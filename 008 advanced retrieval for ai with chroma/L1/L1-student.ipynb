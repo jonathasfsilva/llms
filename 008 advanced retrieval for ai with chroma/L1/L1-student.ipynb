{
 "cells": [
  {
   "cell_type": "markdown",
   "id": "ec889d86-0d16-477f-8b7f-be03d73ad957",
   "metadata": {},
   "source": [
    "# Lab 1 - Overview of embeddings-based retrieval"
   ]
  },
  {
   "cell_type": "markdown",
   "id": "58ee2f53-d88b-4f00-94a2-75a66d4149e9",
   "metadata": {},
   "source": [
    "Welcome! Here's a few notes about the Chroma course notebooks.\n",
    " - A number of warnings pop up when running the notebooks. These are normal and can be ignored.\n",
    " - Some operations such as calling an LLM or an opeation using generated data return unpredictable results and so your notebook outputs may differ from the video.\n",
    "  \n",
    "Enjoy the course!"
   ]
  },
  {
   "cell_type": "code",
   "execution_count": 19,
   "id": "99379c58",
   "metadata": {},
   "outputs": [],
   "source": [
    "#pip install langchain"
   ]
  },
  {
   "cell_type": "code",
   "execution_count": 20,
   "id": "bbc828b4",
   "metadata": {},
   "outputs": [],
   "source": [
    "#pip install chromadb"
   ]
  },
  {
   "cell_type": "code",
   "execution_count": 21,
   "id": "c5edecff",
   "metadata": {},
   "outputs": [],
   "source": [
    "#pip install pypdf"
   ]
  },
  {
   "cell_type": "code",
   "execution_count": 22,
   "id": "5a5536f0-651c-40e7-aa15-27ee0cda80b7",
   "metadata": {},
   "outputs": [],
   "source": [
    "from helper_utils import word_wrap"
   ]
  },
  {
   "cell_type": "code",
   "execution_count": 23,
   "id": "3748b16d-d4a7-49c3-a48a-57dcfc42acd6",
   "metadata": {},
   "outputs": [
    {
     "name": "stdout",
     "output_type": "stream",
     "text": [
      "1 \n",
      "Dear shareholders, colleagues, customers, and partners:  \n",
      "We are\n",
      "living through a period of historic economic, societal, and\n",
      "geopolitical change. The world in 2022 looks nothing like \n",
      "the world in\n",
      "2019. As I write this, inflation is at a 40 -year high, supply chains\n",
      "are stretched, and the war in Ukraine is \n",
      "ongoing. At the same time, we\n",
      "are entering a technological era with the potential to power awesome\n",
      "advancements \n",
      "across every sector of our economy and society. As the\n",
      "world’s largest software company, this places us at a historic\n",
      "\n",
      "intersection of opportunity and responsibility to the world around us.\n",
      " \n",
      "Our mission to empower every person and every organization on the\n",
      "planet to achieve more has never been more \n",
      "urgent or more necessary.\n",
      "For all the uncertainty in the world, one thing is clear: People and\n",
      "organizations in every \n",
      "industry are increasingly looking to digital\n",
      "technology to overcome today’s challenges and emerge stronger. And no\n",
      "\n",
      "company is better positioned to help them than Microsoft.  \n",
      "Every day\n",
      "this past fiscal year I have had the privilege to witness our customers\n",
      "use our platforms and tools to connect \n",
      "what technology can do with\n",
      "what the world needs it to do.  \n",
      "Here are just a few examples:  \n",
      "•\n",
      "Ferrovial, which builds and manages some of the world’s busiest\n",
      "airports and highways, is using our cloud \n",
      "infrastructure to build\n",
      "safer roads as it prepares for a future of autonomous transportation. \n",
      "\n",
      "• Peace Parks Foundation, a nonprofit helping protect natural\n",
      "ecosystems in Southern Africa, is using Microsoft \n",
      "Dynamics 365 and\n",
      "Power BI to secure essential funding, as well as our Azure AI and IoT\n",
      "solutions to help \n",
      "rangers scale their park maintenance and wildlife\n",
      "crime prevention work.  \n",
      "• One of the world’s largest robotics\n",
      "companies, Kawasaki Heavy Industries, is using the breadth of our tools\n",
      "—\n",
      "from Azure IoT and HoloLens—to create an industrial metaverse\n",
      "solution that brings its distributed workforce \n",
      "together with its\n",
      "network of connected equipment to improve productivity and keep\n",
      "employees safe.  \n",
      "• Globo, the biggest media and TV company in Brazil,\n",
      "is using Power Platform to empower its employees to \n",
      "build their own\n",
      "solutions for everything from booking sets to setting schedules.  \n",
      "•\n",
      "And Ørsted, which produces a quarter of the world’s wind energy, is\n",
      "using the Microsoft Intelligent Data \n",
      "Platform to turn data from its\n",
      "offshore turbines into insights for predictive maintenance.  \n",
      "Amid this\n",
      "dynamic environment, we delivered record results in fiscal year 2022:\n",
      "We reported $198  billion in revenue and \n",
      "$83 billion in operating\n",
      "income. And the Microsoft Cloud surpassed $100 billion in annualized\n",
      "revenue for the first time.  \n",
      "OUR RESPONSIBILITY  \n",
      "As a corporation,\n",
      "our purpose and actions must be aligned with addressing the world’s\n",
      "problems, not creating new ones. \n",
      "At our very core, we need to deliver\n",
      "innovation that helps drive broad economic growth. We, as a company,\n",
      "will do well \n",
      "when the world around us does well.  \n",
      "That’s what I\n",
      "believe will lead to widespread human progress and ultimately improve\n",
      "the lives of everyone. There is no \n",
      "more powerful input than digital\n",
      "technology to drive the world’s economic output. This is the core\n",
      "thesis for our being as a \n",
      "company, but it’s not enough. As we drive\n",
      "global economic growth, we must also commit to creating a more\n",
      "inclusive, \n",
      "equitable, sustainable, and trusted future.  \n",
      "Support\n",
      "inclusive economic growth  \n",
      "We must ensure the growth we drive reaches\n",
      "every person, organization, community, and country. This starts with\n",
      "\n",
      "increasing access to digital skills. This year alone, more than 23 \n",
      "million people accessed digital skills training as part of \n",
      "our global\n",
      "skills initiative.\n"
     ]
    }
   ],
   "source": [
    "from pypdf import PdfReader\n",
    "\n",
    "reader = PdfReader(\"microsoft_annual_report_2022.pdf\")\n",
    "pdf_texts = [p.extract_text().strip() for p in reader.pages]\n",
    "\n",
    "# Filter the empty strings\n",
    "pdf_texts = [text for text in pdf_texts if text]\n",
    "\n",
    "print(word_wrap(pdf_texts[0]))"
   ]
  },
  {
   "cell_type": "markdown",
   "id": "bbd608a5-b6c9-4ae9-a871-a3e470a4d12a",
   "metadata": {},
   "source": [
    "You can view the pdf in your browser [here](./microsoft_annual_report_2022.pdf) if you would like. "
   ]
  },
  {
   "cell_type": "code",
   "execution_count": 24,
   "id": "a338ec83-6301-41a5-9ab1-e5d583306a3f",
   "metadata": {},
   "outputs": [],
   "source": [
    "from langchain.text_splitter import RecursiveCharacterTextSplitter, SentenceTransformersTokenTextSplitter\n"
   ]
  },
  {
   "cell_type": "code",
   "execution_count": 25,
   "id": "888a86f8-2fe2-4682-bdaf-c15129ed1a32",
   "metadata": {},
   "outputs": [
    {
     "name": "stdout",
     "output_type": "stream",
     "text": [
      "increased, due in large part to significant global datacenter\n",
      "expansions and the growth in Xbox sales and usage. Despite \n",
      "these\n",
      "increases, we remain dedicated to achieving a net -zero future. We\n",
      "recognize that progress won’t always be linear, \n",
      "and the rate at which\n",
      "we can implement emissions reductions is dependent on many factors that\n",
      "can fluctuate over time.  \n",
      "On the path to becoming water positive, we\n",
      "invested in 21 water replenishment projects that are expected to\n",
      "generate \n",
      "over 1.3 million cubic meters of volumetric benefits in nine\n",
      "water basins around the world. Progress toward our zero waste\n",
      "\n",
      "commitment included diverting more than 15,200 metric tons of solid\n",
      "waste otherwise headed to landfills and incinerators, \n",
      "as well as\n",
      "launching new Circular Centers to increase reuse and reduce e-waste at\n",
      "our datacenters.  \n",
      "We contracted to protect over 17,000 acres of land\n",
      "(50% more than the land we use to operate), thus achieving our\n",
      "\n",
      "Total chunks: 344\n"
     ]
    }
   ],
   "source": [
    "character_splitter = RecursiveCharacterTextSplitter(\n",
    "    separators=[\"\\n\\n\", \"\\n\", \". \", \" \", \"\"],\n",
    "    chunk_size=1000,\n",
    "    chunk_overlap=0\n",
    ")\n",
    "character_split_texts = character_splitter.split_text('\\n\\n'.join(pdf_texts))\n",
    "\n",
    "print(word_wrap(character_split_texts[10]))\n",
    "print(f\"\\nTotal chunks: {len(character_split_texts)}\")"
   ]
  },
  {
   "cell_type": "code",
   "execution_count": 26,
   "id": "5665c695-22ea-4264-b1ac-5ba720b6d78b",
   "metadata": {},
   "outputs": [
    {
     "name": "stderr",
     "output_type": "stream",
     "text": [
      "c:\\Users\\jonat\\development\\llms\\008 advanced retrieval for ai with chroma\\.venv\\Lib\\site-packages\\tqdm\\auto.py:21: TqdmWarning: IProgress not found. Please update jupyter and ipywidgets. See https://ipywidgets.readthedocs.io/en/stable/user_install.html\n",
      "  from .autonotebook import tqdm as notebook_tqdm\n",
      "c:\\Users\\jonat\\development\\llms\\008 advanced retrieval for ai with chroma\\.venv\\Lib\\site-packages\\huggingface_hub\\file_download.py:143: UserWarning: `huggingface_hub` cache-system uses symlinks by default to efficiently store duplicated files but your machine does not support them in C:\\Users\\jonat\\.cache\\huggingface\\hub\\models--sentence-transformers--all-mpnet-base-v2. Caching files will still work but in a degraded version that might require more space on your disk. This warning can be disabled by setting the `HF_HUB_DISABLE_SYMLINKS_WARNING` environment variable. For more details, see https://huggingface.co/docs/huggingface_hub/how-to-cache#limitations.\n",
      "To support symlinks on Windows, you either need to activate Developer Mode or to run Python as an administrator. In order to activate developer mode, see this article: https://docs.microsoft.com/en-us/windows/apps/get-started/enable-your-device-for-development\n",
      "  warnings.warn(message)\n",
      "Xet Storage is enabled for this repo, but the 'hf_xet' package is not installed. Falling back to regular HTTP download. For better performance, install the package with: `pip install huggingface_hub[hf_xet]` or `pip install hf_xet`\n"
     ]
    },
    {
     "name": "stdout",
     "output_type": "stream",
     "text": [
      "increased, due in large part to significant global datacenter\n",
      "expansions and the growth in xbox sales and usage. despite these\n",
      "increases, we remain dedicated to achieving a net - zero future. we\n",
      "recognize that progress won ’ t always be linear, and the rate at which\n",
      "we can implement emissions reductions is dependent on many factors that\n",
      "can fluctuate over time. on the path to becoming water positive, we\n",
      "invested in 21 water replenishment projects that are expected to\n",
      "generate over 1. 3 million cubic meters of volumetric benefits in nine\n",
      "water basins around the world. progress toward our zero waste\n",
      "commitment included diverting more than 15, 200 metric tons of solid\n",
      "waste otherwise headed to landfills and incinerators, as well as\n",
      "launching new circular centers to increase reuse and reduce e - waste\n",
      "at our datacenters. we contracted to protect over 17, 000 acres of land\n",
      "( 50 % more than the land we use to operate ), thus achieving our\n",
      "\n",
      "Total chunks: 349\n"
     ]
    }
   ],
   "source": [
    "token_splitter = SentenceTransformersTokenTextSplitter(chunk_overlap=0, tokens_per_chunk=256)\n",
    "\n",
    "token_split_texts = []\n",
    "for text in character_split_texts:\n",
    "    token_split_texts += token_splitter.split_text(text)\n",
    "\n",
    "print(word_wrap(token_split_texts[10]))\n",
    "print(f\"\\nTotal chunks: {len(token_split_texts)}\")"
   ]
  },
  {
   "cell_type": "code",
   "execution_count": 27,
   "id": "c2a13d14-4484-46f0-8e67-277337f9d138",
   "metadata": {},
   "outputs": [
    {
     "name": "stderr",
     "output_type": "stream",
     "text": [
      "c:\\Users\\jonat\\development\\llms\\008 advanced retrieval for ai with chroma\\.venv\\Lib\\site-packages\\huggingface_hub\\file_download.py:143: UserWarning: `huggingface_hub` cache-system uses symlinks by default to efficiently store duplicated files but your machine does not support them in C:\\Users\\jonat\\.cache\\huggingface\\hub\\models--sentence-transformers--all-MiniLM-L6-v2. Caching files will still work but in a degraded version that might require more space on your disk. This warning can be disabled by setting the `HF_HUB_DISABLE_SYMLINKS_WARNING` environment variable. For more details, see https://huggingface.co/docs/huggingface_hub/how-to-cache#limitations.\n",
      "To support symlinks on Windows, you either need to activate Developer Mode or to run Python as an administrator. In order to activate developer mode, see this article: https://docs.microsoft.com/en-us/windows/apps/get-started/enable-your-device-for-development\n",
      "  warnings.warn(message)\n",
      "Xet Storage is enabled for this repo, but the 'hf_xet' package is not installed. Falling back to regular HTTP download. For better performance, install the package with: `pip install huggingface_hub[hf_xet]` or `pip install hf_xet`\n"
     ]
    },
    {
     "name": "stdout",
     "output_type": "stream",
     "text": [
      "[array([ 4.2562682e-02,  3.3211824e-02,  3.0340094e-02, -3.4866568e-02,\n",
      "        6.8416506e-02, -8.0909103e-02, -1.5474372e-02, -1.4509317e-03,\n",
      "       -1.6744461e-02,  6.7707710e-02, -5.0541375e-02, -4.9195364e-02,\n",
      "        5.1399954e-02,  9.1927290e-02, -7.1778379e-02,  3.9519712e-02,\n",
      "       -1.2833518e-02, -2.4947517e-02, -4.6228632e-02, -2.4357507e-02,\n",
      "        3.3949651e-02,  2.5502451e-02,  2.7317122e-02, -4.1262279e-03,\n",
      "       -3.6338340e-02,  3.6908870e-03, -2.7430451e-02,  4.7967336e-03,\n",
      "       -2.8896226e-02, -1.8870715e-02,  3.6666270e-02,  2.5695870e-02,\n",
      "        3.1312834e-02, -6.3934349e-02,  5.3944055e-02,  8.2253464e-02,\n",
      "       -4.1756865e-02, -6.9958228e-03, -2.3486059e-02, -3.0747946e-02,\n",
      "       -2.9791873e-03, -7.7909395e-02,  9.3531134e-03,  3.1628658e-03,\n",
      "       -2.2257011e-02, -1.8294645e-02, -9.6124718e-03, -3.1506862e-02,\n",
      "       -5.5196430e-03, -3.2703038e-02,  1.6802977e-01, -4.7459684e-02,\n",
      "       -5.0016847e-02, -2.6596724e-03, -4.1047245e-02, -7.0039414e-02,\n",
      "        1.8295964e-02, -3.1431079e-02, -4.7411170e-02, -2.3663644e-02,\n",
      "        5.9449501e-02, -7.2014421e-02,  4.9452251e-03, -5.5326976e-02,\n",
      "        8.7454855e-02,  2.7872683e-02, -3.9772533e-02,  3.4529965e-02,\n",
      "       -9.9920265e-02,  3.2897610e-02, -5.7804227e-02,  2.4546578e-03,\n",
      "       -2.7892301e-02, -4.9947053e-02, -4.0582504e-02,  1.1917499e-02,\n",
      "        2.0419044e-02,  7.7654012e-02,  6.3516237e-02,  1.7546909e-02,\n",
      "        2.3460960e-02, -7.9166489e-03,  1.7074201e-02,  8.6412178e-03,\n",
      "       -6.8153404e-02,  3.4296159e-02,  6.4651074e-04,  2.2735419e-02,\n",
      "        5.2793603e-02, -5.8573216e-02, -9.7841114e-02, -1.4718502e-03,\n",
      "        1.3739885e-01,  2.0794470e-03, -7.5815164e-02,  5.7865757e-02,\n",
      "       -6.0696393e-02, -6.5957539e-02, -3.3650611e-02, -3.1859245e-02,\n",
      "        1.2266585e-02,  9.3733013e-02,  6.7995071e-02, -8.4340364e-02,\n",
      "        4.4024732e-02, -4.2638734e-02,  1.1163059e-02,  1.0505218e-01,\n",
      "        2.9505823e-02, -1.8521126e-02, -2.9688286e-02, -3.3770297e-02,\n",
      "        1.4967003e-03,  3.7323676e-02, -2.0249687e-02,  5.8420781e-02,\n",
      "       -3.9791644e-02, -2.1219671e-02,  6.4181164e-03, -1.0290174e-02,\n",
      "        1.9626128e-02,  3.6796967e-03, -5.0310954e-02, -1.6897086e-02,\n",
      "        4.8544966e-02,  6.6823065e-02,  1.9536354e-02,  2.7227511e-33,\n",
      "       -3.5934076e-02,  1.5661884e-02,  9.6776560e-02, -2.8516483e-04,\n",
      "       -9.7684972e-03, -9.0684742e-02,  1.4486289e-02,  1.2590745e-02,\n",
      "        2.5435865e-02, -3.4434862e-02,  4.2629363e-03,  2.7121393e-02,\n",
      "       -2.0409977e-02,  7.6884866e-02,  3.5721034e-02, -1.3492535e-01,\n",
      "        5.6578517e-02,  1.8364524e-02,  2.2577893e-02, -3.5890311e-02,\n",
      "       -1.1456687e-02, -4.9938276e-02, -1.6012393e-02, -6.3353762e-02,\n",
      "        1.0463958e-01, -8.8016085e-02, -4.4623376e-03, -1.0301049e-02,\n",
      "       -1.7630735e-02, -2.0292290e-02,  6.7041763e-03,  9.1723502e-02,\n",
      "       -7.7950484e-03,  5.9493990e-03, -1.5348834e-02,  1.8279554e-02,\n",
      "       -1.8921498e-02,  3.9875288e-02, -3.9673299e-03,  3.3419255e-02,\n",
      "       -5.6077261e-02,  7.5812593e-02, -5.6255320e-03, -5.4455269e-02,\n",
      "        6.6984408e-02, -2.5974391e-02,  1.1199560e-01, -3.6421414e-02,\n",
      "        5.0125946e-03,  3.2010008e-02,  4.9636893e-02,  9.7115964e-02,\n",
      "       -1.1546945e-01,  6.4132765e-02, -3.3978797e-02, -9.2915624e-02,\n",
      "        4.9754832e-02, -8.6134203e-02, -8.3663994e-03, -1.3703760e-02,\n",
      "       -7.8828029e-02,  1.9654321e-02, -3.7150458e-02,  1.4476167e-02,\n",
      "       -4.9403146e-02,  5.3492419e-02,  9.1390125e-02,  3.1002857e-02,\n",
      "        3.0287631e-02,  2.1342786e-02, -4.3937746e-02, -4.2974416e-02,\n",
      "       -2.2650545e-03, -2.1944085e-02,  5.4746042e-03, -1.0243937e-02,\n",
      "        2.1677963e-02, -2.7323680e-02, -7.8825798e-04,  3.3089165e-02,\n",
      "       -7.4023614e-03,  9.8300157e-03,  1.3544082e-02, -3.2744817e-02,\n",
      "        5.6019053e-02, -6.0116511e-02,  3.1122027e-02,  3.4422446e-02,\n",
      "        2.6550496e-02, -6.8079322e-03, -1.1054230e-02, -1.4439894e-02,\n",
      "        2.2785386e-02, -2.7951965e-02, -1.6208982e-02, -3.6892527e-33,\n",
      "        2.9203683e-02,  4.6704866e-02, -4.9644146e-02,  6.3244916e-02,\n",
      "        2.8438034e-02, -2.2357147e-02,  3.3479881e-02, -1.8478705e-02,\n",
      "        1.8780127e-02,  2.4117015e-03, -8.1678346e-02,  1.0084164e-01,\n",
      "        4.9023148e-02,  3.6467303e-02, -4.5560438e-02, -7.0491962e-02,\n",
      "        2.5340423e-02, -3.2679424e-02, -4.2964973e-02, -7.2510198e-02,\n",
      "        4.1307114e-02,  5.0497226e-02,  6.4771464e-03, -3.3250211e-03,\n",
      "       -8.2356632e-02,  8.0077186e-02, -3.4653895e-02,  8.4705027e-03,\n",
      "        4.1389450e-02, -1.0147662e-02, -1.0289659e-01,  4.5671277e-02,\n",
      "        1.2796057e-02, -6.0177650e-02, -2.6627835e-02, -9.7252324e-02,\n",
      "        1.5798638e-02,  7.2191298e-02, -1.5325850e-02,  1.8071030e-03,\n",
      "        6.0395353e-02, -7.0776410e-02, -2.1278758e-02, -3.8516257e-02,\n",
      "       -5.7411116e-02, -4.2538191e-03,  3.2807671e-02, -1.7595600e-02,\n",
      "        4.9757615e-02, -7.3790457e-03, -8.3545726e-03,  4.3137878e-02,\n",
      "       -5.4291569e-02,  4.3162137e-02,  2.3688590e-02,  1.8171594e-02,\n",
      "        9.2822090e-02, -4.2229383e-03, -2.2514559e-02,  1.9288275e-02,\n",
      "       -3.6844362e-02,  1.0015191e-01,  1.7764764e-02,  2.2849530e-02,\n",
      "       -3.9676871e-02,  1.6808389e-03,  5.0669238e-02,  8.5649289e-02,\n",
      "       -2.6413536e-02, -3.2668628e-02, -3.6949620e-02, -2.0994022e-02,\n",
      "        1.7766068e-02, -7.4130684e-02, -2.4688160e-02, -3.9948914e-02,\n",
      "       -2.4767980e-02, -2.4194103e-02, -1.0816433e-02,  1.0815998e-02,\n",
      "       -3.0551746e-02,  1.0519371e-01, -8.0217756e-03, -3.2896310e-02,\n",
      "        1.4804390e-01, -7.0942923e-02, -5.0219096e-02, -1.5231891e-01,\n",
      "        2.2767432e-02,  1.3845955e-01, -7.9233103e-02, -4.1601006e-02,\n",
      "       -9.3716756e-02,  6.6018283e-02,  4.3520365e-02, -4.9979707e-08,\n",
      "       -1.0548068e-02,  6.0080286e-02,  2.8823502e-02,  7.0722438e-02,\n",
      "        3.1575371e-02, -5.9138007e-02,  5.4883372e-02,  1.6316646e-01,\n",
      "        3.4759481e-02,  2.7875427e-02,  7.1267724e-02, -6.9463602e-03,\n",
      "       -5.2904379e-02,  1.1618998e-02, -2.6834987e-02,  2.8954355e-02,\n",
      "        4.3446910e-02, -7.0120029e-02, -5.8793992e-02, -3.9219365e-02,\n",
      "       -1.7293930e-02, -3.0054459e-02, -8.1125282e-02, -4.5062132e-02,\n",
      "        5.2496180e-02, -4.9235713e-02,  8.0521248e-02,  6.5855108e-02,\n",
      "       -6.0809142e-04, -4.5664102e-02,  3.0586982e-02, -6.3860822e-03,\n",
      "       -3.1755742e-02,  8.2288114e-03,  1.0760930e-02,  1.0412685e-03,\n",
      "        1.9078726e-02,  3.2279886e-02, -1.4408729e-02,  3.5797935e-02,\n",
      "       -7.2281875e-02,  3.3632986e-02,  6.6635665e-03, -1.8206239e-02,\n",
      "       -2.0436279e-02, -2.6353884e-03, -1.8547712e-01,  1.2449294e-02,\n",
      "        2.9731298e-02, -3.8548507e-02, -9.7533586e-03, -1.3694338e-02,\n",
      "        9.1833416e-03,  8.4889203e-02,  1.2721878e-01,  5.5459995e-02,\n",
      "       -4.9361661e-02, -1.1912004e-02, -5.6979280e-02,  1.0420085e-01,\n",
      "        5.7180673e-02, -1.0395051e-01, -2.3767877e-02, -2.7168980e-02],\n",
      "      dtype=float32)]\n"
     ]
    }
   ],
   "source": [
    "import chromadb\n",
    "from chromadb.utils.embedding_functions import SentenceTransformerEmbeddingFunction\n",
    "\n",
    "embedding_function = SentenceTransformerEmbeddingFunction()\n",
    "print(embedding_function([token_split_texts[10]]))"
   ]
  },
  {
   "cell_type": "code",
   "execution_count": 28,
   "id": "8ba6c8c5-9ce4-44d0-9223-6fdd77871f87",
   "metadata": {},
   "outputs": [
    {
     "data": {
      "text/plain": [
       "349"
      ]
     },
     "execution_count": 28,
     "metadata": {},
     "output_type": "execute_result"
    }
   ],
   "source": [
    "chroma_client = chromadb.Client()\n",
    "chroma_collection = chroma_client.create_collection(\"microsoft_annual_report_2022\", embedding_function=embedding_function)\n",
    "\n",
    "ids = [str(i) for i in range(len(token_split_texts))]\n",
    "\n",
    "chroma_collection.add(ids=ids, documents=token_split_texts)\n",
    "chroma_collection.count()"
   ]
  },
  {
   "cell_type": "code",
   "execution_count": 29,
   "id": "bfdb54db-a442-423c-b006-c33a257cd7d7",
   "metadata": {},
   "outputs": [
    {
     "name": "stdout",
     "output_type": "stream",
     "text": [
      "74 note 13 — unearned revenue unearned revenue by segment was as\n",
      "follows : ( in millions ) june 30, 2022 2021 productivity and business\n",
      "processes $ 24, 558 $ 22, 120 intelligent cloud 19, 371 17, 710 more\n",
      "personal computing 4, 479 4, 311 total $ 48, 408 $ 44, 141 changes in\n",
      "unearned revenue were as follows : ( in millions ) year ended june 30,\n",
      "2022 balance, beginning of period $ 44, 141 deferral of revenue 110,\n",
      "455 recognition of unearned revenue ( 106, 188 ) balance, end of period\n",
      "$ 48, 408 revenue allocated to remaining performance obligations, which\n",
      "includes unearned revenue and amounts that will be invoiced and\n",
      "recognized as revenue in future periods, was $ 193 billion as of june\n",
      "30, 2022, of which $ 189 billion is related to the commercial portion\n",
      "of revenue. we expect to recognize approximately 45 % of this revenue\n",
      "over the next 12 months and the remainder thereafter. note 14 — leases\n",
      "\n",
      "\n",
      "that are not sold separately. • we tested the mathematical accuracy of\n",
      "management ’ s calculations of revenue and the associated timing of\n",
      "revenue recognized in the financial statements.\n",
      "\n",
      "\n",
      "82 in addition, certain costs incurred at a corporate level that are\n",
      "identifiable and that benefit our segments are allocated to them. these\n",
      "allocated costs include legal, including settlements and fines,\n",
      "information technology, human resources, finance, excise taxes, field\n",
      "selling, shared facilities services, and customer service and support.\n",
      "each allocation is measured differently based on the specific facts and\n",
      "circumstances of the costs being allocated. segment revenue and\n",
      "operating income were as follows during the periods presented : ( in\n",
      "millions ) year ended june 30, 2022 2021 2020 revenue productivity and\n",
      "business processes $ 63, 364 $ 53, 915 $ 46, 398 intelligent cloud 75,\n",
      "251 60, 080 48, 366 more personal computing 59, 655 54, 093 48, 251\n",
      "total $ 198, 270 $ 168, 088 $ 143, 015 operating income productivity\n",
      "and business processes $ 29, 687 $ 24, 351 $ 18, 724\n",
      "\n",
      "\n",
      "47 financial statements and supplementary data income statements ( in\n",
      "millions, except per share amounts ) year ended june 30, 2022 2021 2020\n",
      "revenue : product $ 72, 732 $ 71, 074 $ 68, 041 service and other 125,\n",
      "538 97, 014 74, 974 total revenue 198, 270 168, 088 143, 015 cost of\n",
      "revenue : product 19, 064 18, 219 16, 017 service and other 43, 586 34,\n",
      "013 30, 061 total cost of revenue 62, 650 52, 232 46, 078 gross margin\n",
      "135, 620 115, 856 96, 937 research and development 24, 512 20, 716 19,\n",
      "269 sales and marketing 21, 825 20, 117 19, 598 general and\n",
      "administrative 5, 900 5, 107 5, 111 operating income 83, 383 69, 916\n",
      "52, 959 other income, net 333 1, 186 77 income before income taxes 83,\n",
      "716 71, 102 53, 036 provision for income taxes 10, 978 9, 831 8, 755\n",
      "net income $ 72, 738 $ 61, 271 $ 44, 281\n",
      "\n",
      "\n",
      "intelligent cloud 32, 721 26, 126 18, 324 more personal computing 20,\n",
      "975 19, 439 15, 911 total $ 83, 383 $ 69, 916 $ 52, 959 no sales to an\n",
      "individual customer or country other than the united states accounted\n",
      "for more than 10 % of revenue for fiscal years 2022, 2021, or 2020.\n",
      "revenue, classified by the major geographic areas in which our\n",
      "customers were located, was as follows : ( in millions ) year ended\n",
      "june 30, 2022 2021 2020 united states ( a ) $ 100, 218 $ 83, 953 $ 73,\n",
      "160 other countries 98, 052 84, 135 69, 855 total $ 198, 270 $ 168, 088\n",
      "$ 143, 015 ( a ) includes billings to oems and certain multinational\n",
      "organizations because of the nature of these businesses and the\n",
      "impracticability of determining the geographic source of the revenue.\n",
      "revenue, classified by significant product and service offerings, was\n",
      "as follows : ( in millions ) year ended june 30, 2022 2021 2020\n",
      "\n",
      "\n"
     ]
    }
   ],
   "source": [
    "query = \"What was the total revenue?\"\n",
    "\n",
    "results = chroma_collection.query(query_texts=[query], n_results=5)\n",
    "retrieved_documents = results['documents'][0]\n",
    "\n",
    "for document in retrieved_documents:\n",
    "    print(word_wrap(document))\n",
    "    print('\\n')"
   ]
  },
  {
   "cell_type": "code",
   "execution_count": 31,
   "id": "377a84aa-1d93-4e97-9b2d-d59c46355338",
   "metadata": {},
   "outputs": [],
   "source": [
    "import os\n",
    "import openai\n",
    "from openai import OpenAI\n",
    "\n",
    "from dotenv import load_dotenv, find_dotenv\n",
    "_ = load_dotenv(find_dotenv()) # read local .env file\n",
    "openai.api_key = os.environ['OPENAI_API_KEY']\n",
    "\n",
    "openai_client = OpenAI()"
   ]
  },
  {
   "cell_type": "code",
   "execution_count": 32,
   "id": "ba0ed8ca-6640-4c09-9cb3-9de5e7cf46dc",
   "metadata": {},
   "outputs": [],
   "source": [
    "def rag(query, retrieved_documents, model=\"gpt-3.5-turbo\"):\n",
    "    information = \"\\n\\n\".join(retrieved_documents)\n",
    "\n",
    "    messages = [\n",
    "        {\n",
    "            \"role\": \"system\",\n",
    "            \"content\": \"You are a helpful expert financial research assistant. Your users are asking questions about information contained in an annual report.\"\n",
    "            \"You will be shown the user's question, and the relevant information from the annual report. Answer the user's question using only this information.\"\n",
    "        },\n",
    "        {\"role\": \"user\", \"content\": f\"Question: {query}. \\n Information: {information}\"}\n",
    "    ]\n",
    "    \n",
    "    response = openai_client.chat.completions.create(\n",
    "        model=model,\n",
    "        messages=messages,\n",
    "    )\n",
    "    content = response.choices[0].message.content\n",
    "    return content"
   ]
  },
  {
   "cell_type": "code",
   "execution_count": 33,
   "id": "28bac3a2-0d29-48dc-9b48-2d9313239a25",
   "metadata": {},
   "outputs": [
    {
     "name": "stdout",
     "output_type": "stream",
     "text": [
      "Total revenue for the year ended June 30, 2022, was $198,270 million.\n"
     ]
    }
   ],
   "source": [
    "output = rag(query=query, retrieved_documents=retrieved_documents)\n",
    "\n",
    "print(word_wrap(output))"
   ]
  }
 ],
 "metadata": {
  "kernelspec": {
   "display_name": ".venv (3.12.10)",
   "language": "python",
   "name": "python3"
  },
  "language_info": {
   "codemirror_mode": {
    "name": "ipython",
    "version": 3
   },
   "file_extension": ".py",
   "mimetype": "text/x-python",
   "name": "python",
   "nbconvert_exporter": "python",
   "pygments_lexer": "ipython3",
   "version": "3.12.10"
  }
 },
 "nbformat": 4,
 "nbformat_minor": 5
}
